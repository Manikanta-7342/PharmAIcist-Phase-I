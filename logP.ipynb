{
  "cells": [
    {
      "cell_type": "code",
      "execution_count": 1,
      "metadata": {
        "colab": {
          "base_uri": "https://localhost:8080/"
        },
        "id": "u_pv6BKYQvds",
        "outputId": "9b62416c-07e8-4293-da76-885399fe6907"
      },
      "outputs": [
        {
          "name": "stdout",
          "output_type": "stream",
          "text": [
            "Cloning into 'ReLeaSE'...\n",
            "remote: Enumerating objects: 548, done.\u001b[K\n",
            "remote: Counting objects: 100% (3/3), done.\u001b[K\n",
            "remote: Compressing objects: 100% (3/3), done.\u001b[K\n",
            "remote: Total 548 (delta 0), reused 2 (delta 0), pack-reused 545\u001b[K\n",
            "Receiving objects: 100% (548/548), 449.76 MiB | 8.72 MiB/s, done.\n",
            "Resolving deltas: 100% (264/264), done.\n"
          ]
        }
      ],
      "source": [
        "!git clone https://github.com/isayev/ReLeaSE.git"
      ]
    },
    {
      "cell_type": "code",
      "execution_count": 2,
      "metadata": {
        "colab": {
          "base_uri": "https://localhost:8080/"
        },
        "id": "U3-TGiciWcpV",
        "outputId": "fb0cdf7f-9cb9-4b5c-a23d-88513534e62d"
      },
      "outputs": [
        {
          "name": "stdout",
          "output_type": "stream",
          "text": [
            "Looking in indexes: https://pypi.org/simple, https://pypi.ngc.nvidia.com\n",
            "Requirement already satisfied: rdkit in /home/sl-beast/miniconda3/lib/python3.11/site-packages (2023.9.2)\n",
            "Requirement already satisfied: mordred in /home/sl-beast/miniconda3/lib/python3.11/site-packages (1.2.0)\n",
            "Requirement already satisfied: numpy in /home/sl-beast/miniconda3/lib/python3.11/site-packages (from rdkit) (1.26.0)\n",
            "Requirement already satisfied: Pillow in /home/sl-beast/miniconda3/lib/python3.11/site-packages (from rdkit) (10.0.1)\n",
            "Requirement already satisfied: six==1.* in /home/sl-beast/miniconda3/lib/python3.11/site-packages (from mordred) (1.16.0)\n",
            "Requirement already satisfied: networkx==2.* in /home/sl-beast/miniconda3/lib/python3.11/site-packages (from mordred) (2.8.8)\n"
          ]
        }
      ],
      "source": [
        "!pip install rdkit mordred"
      ]
    },
    {
      "cell_type": "code",
      "execution_count": 3,
      "metadata": {
        "colab": {
          "base_uri": "https://localhost:8080/"
        },
        "id": "LN9mbW3NQ-dV",
        "outputId": "fe79f340-9c6e-48d2-ca25-4dede245999f"
      },
      "outputs": [
        {
          "name": "stdout",
          "output_type": "stream",
          "text": [
            "env: CUDA_VISIBLE_DEVICES=0\n"
          ]
        }
      ],
      "source": [
        "%env CUDA_VISIBLE_DEVICES=0"
      ]
    },
    {
      "cell_type": "code",
      "execution_count": 51,
      "metadata": {
        "id": "rv2QFuk9RAGf"
      },
      "outputs": [],
      "source": [
        "%load_ext autoreload\n",
        "%autoreload 2"
      ]
    },
    {
      "cell_type": "code",
      "execution_count": 3,
      "metadata": {
        "id": "E7E7Tp48WRXt"
      },
      "outputs": [],
      "source": [
        "import sys"
      ]
    },
    {
      "cell_type": "code",
      "execution_count": 4,
      "metadata": {
        "colab": {
          "base_uri": "https://localhost:8080/"
        },
        "id": "WxKXmx_0WTOj",
        "outputId": "496e23e3-4848-449d-b440-bae9e4fa148e"
      },
      "outputs": [
        {
          "name": "stdout",
          "output_type": "stream",
          "text": [
            "/home/sl-beast/manikanta/ReLeaSE/release\n"
          ]
        }
      ],
      "source": [
        "sys.path.append('./release/')\n",
        "%cd ReLeaSE/release"
      ]
    },
    {
      "cell_type": "code",
      "execution_count": 5,
      "metadata": {
        "id": "2SAt2WwnWU4K"
      },
      "outputs": [],
      "source": [
        "import torch\n",
        "import torch.nn as nn\n",
        "from torch.optim.lr_scheduler import ExponentialLR, StepLR\n",
        "import torch.nn.functional as F"
      ]
    },
    {
      "cell_type": "code",
      "execution_count": 6,
      "metadata": {
        "id": "4JpHKkc-WWuS"
      },
      "outputs": [],
      "source": [
        "use_cuda = torch.cuda.is_available()"
      ]
    },
    {
      "cell_type": "code",
      "execution_count": 7,
      "metadata": {
        "id": "i4VSjAUeWYMX"
      },
      "outputs": [],
      "source": [
        "import numpy as np\n",
        "from tqdm import tqdm, trange\n",
        "import pickle\n",
        "from rdkit import Chem, DataStructs\n",
        "from stackRNN import StackAugmentedRNN\n",
        "from data import GeneratorData\n",
        "from utils import canonical_smiles"
      ]
    },
    {
      "cell_type": "code",
      "execution_count": 8,
      "metadata": {
        "id": "9y6OStvwWZl5"
      },
      "outputs": [],
      "source": [
        "import matplotlib.pyplot as plt\n",
        "%matplotlib inline\n",
        "\n",
        "import seaborn as sns"
      ]
    },
    {
      "cell_type": "code",
      "execution_count": 17,
      "metadata": {
        "id": "GcQZE2tWWjCQ"
      },
      "outputs": [],
      "source": [
        "gen_data_path = '/home/sl-beast/manikanta/data_train.txt'"
      ]
    },
    {
      "cell_type": "code",
      "execution_count": 18,
      "metadata": {
        "id": "NhCZuRZ1X_1B"
      },
      "outputs": [],
      "source": [
        "tokens = ['<', '>', '#', '%', ')', '(', '+', '-', '/', '.', '1', '0', '3', '2', '5', '4', '7',\n",
        "          '6', '9', '8', '=', 'A', '@', 'C', 'B', 'F', 'I', 'H', 'O', 'N', 'P', 'S', '[', ']',\n",
        "          '\\\\', 'c', 'a', 'e', 'i', 'l', 'o', 'n', 'p', 's', 'r', '\\n']"
      ]
    },
    {
      "cell_type": "code",
      "execution_count": 19,
      "metadata": {
        "id": "MSZpVy6yYAIi"
      },
      "outputs": [],
      "source": [
        "gen_data = GeneratorData(training_data_path=gen_data_path, delimiter=' ',\n",
        "                         cols_to_read=[0], keep_header=True, tokens=tokens)"
      ]
    },
    {
      "cell_type": "code",
      "execution_count": 20,
      "metadata": {
        "id": "xQe2n_brYDWZ"
      },
      "outputs": [],
      "source": [
        "def plot_hist(prediction, n_to_generate):\n",
        "    prediction = np.array(prediction)\n",
        "    percentage_in_threshold = np.sum((prediction >= 0.0) &\n",
        "                                     (prediction <= 5.0))/len(prediction)\n",
        "    print(\"Percentage of predictions within drug-like region:\", percentage_in_threshold)\n",
        "    print(\"Proportion of valid SMILES:\", len(prediction)/n_to_generate)\n",
        "    ax = sns.kdeplot(prediction, shade=True)\n",
        "    plt.axvline(x=0.0)\n",
        "    plt.axvline(x=5.0)\n",
        "    ax.set(xlabel='Predicted LogP',\n",
        "           title='Distribution of predicted LogP for generated molecules')\n",
        "    plt.show()"
      ]
    },
    {
      "cell_type": "code",
      "execution_count": 21,
      "metadata": {
        "id": "4WmiN7oiYPIU"
      },
      "outputs": [],
      "source": [
        "def estimate_and_update(generator, predictor, n_to_generate):\n",
        "    generated = []\n",
        "    pbar = tqdm(range(n_to_generate))\n",
        "    for i in pbar:\n",
        "        pbar.set_description(\"Generating molecules...\")\n",
        "        generated.append(generator.evaluate(gen_data, predict_len=120)[1:-1])\n",
        "\n",
        "    sanitized = canonical_smiles(generated, sanitize=False, throw_warning=False)[:-1]\n",
        "    unique_smiles = list(np.unique(sanitized))[1:]\n",
        "    smiles, prediction, nan_smiles = predictor.predict(unique_smiles, use_tqdm=True)\n",
        "\n",
        "    plot_hist(prediction, n_to_generate)\n",
        "\n",
        "    return smiles, prediction"
      ]
    },
    {
      "cell_type": "code",
      "execution_count": 22,
      "metadata": {
        "id": "MmMK5O07YUuc"
      },
      "outputs": [],
      "source": [
        "hidden_size = 1500\n",
        "stack_width = 1500\n",
        "stack_depth = 200\n",
        "layer_type = 'GRU'\n",
        "lr = 0.001\n",
        "optimizer_instance = torch.optim.Adadelta\n",
        "\n",
        "my_generator = StackAugmentedRNN(input_size=gen_data.n_characters, hidden_size=hidden_size,\n",
        "                                 output_size=gen_data.n_characters, layer_type=layer_type,\n",
        "                                 n_layers=1, is_bidirectional=False, has_stack=True,\n",
        "                                 stack_width=stack_width, stack_depth=stack_depth,\n",
        "                                 use_cuda=use_cuda,\n",
        "                                 optimizer_instance=optimizer_instance, lr=lr)"
      ]
    },
    {
      "cell_type": "code",
      "execution_count": 23,
      "metadata": {
        "id": "yUEp-1bWYW5d"
      },
      "outputs": [],
      "source": [
        "#losses = my_generator.fit(gen_data, 1500000)"
      ]
    },
    {
      "cell_type": "code",
      "execution_count": 24,
      "metadata": {
        "id": "a5L1F9G8Nd8A"
      },
      "outputs": [],
      "source": [
        "# i = 0\n",
        "# while i<100001:\n",
        "#   if i % 10000 == 0:\n",
        "#     my_generator.save_model(f'/content/{i}')\n",
        "#   my_generator.load_model(f'/content/drive/MyDrive/colab/{i}')\n",
        "#   losses = my_generator.fit(gen_data, 10000)\n",
        "#   i += 10000\n",
        "# my_generator.save_model(f'/content/{i}')"
      ]
    },
    {
      "cell_type": "code",
      "execution_count": 19,
      "metadata": {
        "id": "SejYYYUVYa-y"
      },
      "outputs": [],
      "source": [
        "#my_generator.save_model('/content/20000')"
      ]
    },
    {
      "cell_type": "code",
      "execution_count": 25,
      "metadata": {
        "id": "AQ96t3qHv1Lr"
      },
      "outputs": [],
      "source": [
        "my_generator.load_model('/home/sl-beast/manikanta/410000')"
      ]
    },
    {
      "cell_type": "code",
      "execution_count": 26,
      "metadata": {
        "colab": {
          "base_uri": "https://localhost:8080/"
        },
        "id": "LPfaNhtBHu7e",
        "outputId": "79b32ce4-816f-4c6d-b3fc-c4ca2d62446f"
      },
      "outputs": [
        {
          "name": "stdout",
          "output_type": "stream",
          "text": [
            "Cloning into 'OpenChem'...\n",
            "remote: Enumerating objects: 2179, done.\u001b[K\n",
            "remote: Counting objects: 100% (129/129), done.\u001b[K\n",
            "remote: Compressing objects: 100% (62/62), done.\u001b[K\n",
            "remote: Total 2179 (delta 62), reused 126 (delta 61), pack-reused 2050\u001b[K\n",
            "Receiving objects: 100% (2179/2179), 166.23 MiB | 14.14 MiB/s, done.\n",
            "Resolving deltas: 100% (1186/1186), done.\n"
          ]
        }
      ],
      "source": [
        "! git clone https://github.com/Mariewelt/OpenChem.git"
      ]
    },
    {
      "cell_type": "code",
      "execution_count": 27,
      "metadata": {
        "id": "DDyhZCqKHu4q"
      },
      "outputs": [
        {
          "name": "stderr",
          "output_type": "stream",
          "text": [
            "2023-12-06 15:54:57.840708: I tensorflow/core/util/port.cc:113] oneDNN custom operations are on. You may see slightly different numerical results due to floating-point round-off errors from different computation orders. To turn them off, set the environment variable `TF_ENABLE_ONEDNN_OPTS=0`.\n",
            "2023-12-06 15:54:57.860565: E external/local_xla/xla/stream_executor/cuda/cuda_dnn.cc:9261] Unable to register cuDNN factory: Attempting to register factory for plugin cuDNN when one has already been registered\n",
            "2023-12-06 15:54:57.860584: E external/local_xla/xla/stream_executor/cuda/cuda_fft.cc:607] Unable to register cuFFT factory: Attempting to register factory for plugin cuFFT when one has already been registered\n",
            "2023-12-06 15:54:57.861114: E external/local_xla/xla/stream_executor/cuda/cuda_blas.cc:1515] Unable to register cuBLAS factory: Attempting to register factory for plugin cuBLAS when one has already been registered\n",
            "2023-12-06 15:54:57.864968: I tensorflow/core/platform/cpu_feature_guard.cc:182] This TensorFlow binary is optimized to use available CPU instructions in performance-critical operations.\n",
            "To enable the following instructions: AVX2 AVX_VNNI FMA, in other operations, rebuild TensorFlow with the appropriate compiler flags.\n"
          ]
        }
      ],
      "source": [
        "from rnn_predictor import RNNPredictor"
      ]
    },
    {
      "cell_type": "code",
      "execution_count": 28,
      "metadata": {
        "id": "H1BSdmIcKrFL"
      },
      "outputs": [],
      "source": [
        "predictor_tokens = tokens + [' ']"
      ]
    },
    {
      "cell_type": "code",
      "execution_count": 29,
      "metadata": {
        "id": "XrNefL_95uIL"
      },
      "outputs": [],
      "source": [
        "path_to_params = '/home/sl-beast/manikanta/checkpoint/logP/model_params.pkl'\n",
        "path_to_checkpoint = '/home/sl-beast/manikanta/checkpoint/logP/fold_'"
      ]
    },
    {
      "cell_type": "code",
      "execution_count": 30,
      "metadata": {
        "id": "R9eFb5QIHuvE"
      },
      "outputs": [],
      "source": [
        "my_predictor = RNNPredictor(path_to_params, path_to_checkpoint, predictor_tokens)"
      ]
    },
    {
      "cell_type": "code",
      "execution_count": 32,
      "metadata": {
        "id": "U44FUo9bHuiF"
      },
      "outputs": [],
      "source": [
        "from predictor import VanillaQSAR\n",
        "from sklearn.ensemble import RandomForestRegressor as RFR"
      ]
    },
    {
      "cell_type": "code",
      "execution_count": 34,
      "metadata": {
        "id": "16Rz47ym3xIx"
      },
      "outputs": [],
      "source": [
        "!export CUDA_LAUNCH_BLOCKING=1\n",
        "!export TORCH_USE_CUDA_DSA=1"
      ]
    },
    {
      "cell_type": "code",
      "execution_count": 59,
      "metadata": {
        "colab": {
          "base_uri": "https://localhost:8080/",
          "height": 533
        },
        "id": "Rmm7mIR0HufW",
        "outputId": "01571911-3ef4-4c48-a632-df288e5c4ff2"
      },
      "outputs": [
        {
          "name": "stderr",
          "output_type": "stream",
          "text": [
            "Generating molecules...:   0%|          | 0/100 [00:00<?, ?it/s]\n"
          ]
        },
        {
          "ename": "RuntimeError",
          "evalue": "CUDA error: device-side assert triggered\nCUDA kernel errors might be asynchronously reported at some other API call, so the stacktrace below might be incorrect.\nFor debugging consider passing CUDA_LAUNCH_BLOCKING=1.\nCompile with `TORCH_USE_CUDA_DSA` to enable device-side assertions.\n",
          "output_type": "error",
          "traceback": [
            "\u001b[0;31m---------------------------------------------------------------------------\u001b[0m",
            "\u001b[0;31mRuntimeError\u001b[0m                              Traceback (most recent call last)",
            "\u001b[1;32m/home/sl-beast/manikanta/ChemicalSpace.ipynb Cell 28\u001b[0m line \u001b[0;36m1\n\u001b[0;32m----> <a href='vscode-notebook-cell:/home/sl-beast/manikanta/ChemicalSpace.ipynb#X36sZmlsZQ%3D%3D?line=0'>1</a>\u001b[0m smiles_unbiased, prediction_unbiased \u001b[39m=\u001b[39m estimate_and_update(my_generator,\n\u001b[1;32m      <a href='vscode-notebook-cell:/home/sl-beast/manikanta/ChemicalSpace.ipynb#X36sZmlsZQ%3D%3D?line=1'>2</a>\u001b[0m                                                            my_predictor,\n\u001b[1;32m      <a href='vscode-notebook-cell:/home/sl-beast/manikanta/ChemicalSpace.ipynb#X36sZmlsZQ%3D%3D?line=2'>3</a>\u001b[0m                                                            n_to_generate\u001b[39m=\u001b[39;49m\u001b[39m100\u001b[39;49m)\n",
            "\u001b[1;32m/home/sl-beast/manikanta/ChemicalSpace.ipynb Cell 28\u001b[0m line \u001b[0;36m6\n\u001b[1;32m      <a href='vscode-notebook-cell:/home/sl-beast/manikanta/ChemicalSpace.ipynb#X36sZmlsZQ%3D%3D?line=3'>4</a>\u001b[0m \u001b[39mfor\u001b[39;00m i \u001b[39min\u001b[39;00m pbar:\n\u001b[1;32m      <a href='vscode-notebook-cell:/home/sl-beast/manikanta/ChemicalSpace.ipynb#X36sZmlsZQ%3D%3D?line=4'>5</a>\u001b[0m     pbar\u001b[39m.\u001b[39mset_description(\u001b[39m\"\u001b[39m\u001b[39mGenerating molecules...\u001b[39m\u001b[39m\"\u001b[39m)\n\u001b[0;32m----> <a href='vscode-notebook-cell:/home/sl-beast/manikanta/ChemicalSpace.ipynb#X36sZmlsZQ%3D%3D?line=5'>6</a>\u001b[0m     generated\u001b[39m.\u001b[39mappend(generator\u001b[39m.\u001b[39;49mevaluate(gen_data, predict_len\u001b[39m=\u001b[39;49m\u001b[39m120\u001b[39;49m)[\u001b[39m1\u001b[39m:\u001b[39m-\u001b[39m\u001b[39m1\u001b[39m])\n\u001b[1;32m      <a href='vscode-notebook-cell:/home/sl-beast/manikanta/ChemicalSpace.ipynb#X36sZmlsZQ%3D%3D?line=7'>8</a>\u001b[0m sanitized \u001b[39m=\u001b[39m canonical_smiles(generated, sanitize\u001b[39m=\u001b[39m\u001b[39mFalse\u001b[39;00m, throw_warning\u001b[39m=\u001b[39m\u001b[39mFalse\u001b[39;00m)[:\u001b[39m-\u001b[39m\u001b[39m1\u001b[39m]\n\u001b[1;32m      <a href='vscode-notebook-cell:/home/sl-beast/manikanta/ChemicalSpace.ipynb#X36sZmlsZQ%3D%3D?line=8'>9</a>\u001b[0m unique_smiles \u001b[39m=\u001b[39m \u001b[39mlist\u001b[39m(np\u001b[39m.\u001b[39munique(sanitized))[\u001b[39m1\u001b[39m:]\n",
            "File \u001b[0;32m~/manikanta/ReLeaSE/release/stackRNN.py:374\u001b[0m, in \u001b[0;36mStackAugmentedRNN.evaluate\u001b[0;34m(self, data, prime_str, end_token, predict_len)\u001b[0m\n\u001b[1;32m    346\u001b[0m \u001b[39mdef\u001b[39;00m \u001b[39mevaluate\u001b[39m(\u001b[39mself\u001b[39m, data, prime_str\u001b[39m=\u001b[39m\u001b[39m'\u001b[39m\u001b[39m<\u001b[39m\u001b[39m'\u001b[39m, end_token\u001b[39m=\u001b[39m\u001b[39m'\u001b[39m\u001b[39m>\u001b[39m\u001b[39m'\u001b[39m, predict_len\u001b[39m=\u001b[39m\u001b[39m100\u001b[39m):\n\u001b[1;32m    347\u001b[0m \u001b[39m    \u001b[39m\u001b[39m\"\"\"\u001b[39;00m\n\u001b[1;32m    348\u001b[0m \u001b[39m    Generates new string from the model distribution.\u001b[39;00m\n\u001b[1;32m    349\u001b[0m \n\u001b[0;32m   (...)\u001b[0m\n\u001b[1;32m    372\u001b[0m \n\u001b[1;32m    373\u001b[0m \u001b[39m    \"\"\"\u001b[39;00m\n\u001b[0;32m--> 374\u001b[0m     hidden \u001b[39m=\u001b[39m \u001b[39mself\u001b[39;49m\u001b[39m.\u001b[39;49minit_hidden()\n\u001b[1;32m    375\u001b[0m     \u001b[39mif\u001b[39;00m \u001b[39mself\u001b[39m\u001b[39m.\u001b[39mhas_cell:\n\u001b[1;32m    376\u001b[0m         cell \u001b[39m=\u001b[39m \u001b[39mself\u001b[39m\u001b[39m.\u001b[39minit_cell()\n",
            "File \u001b[0;32m~/manikanta/ReLeaSE/release/stackRNN.py:269\u001b[0m, in \u001b[0;36mStackAugmentedRNN.init_hidden\u001b[0;34m(self)\u001b[0m\n\u001b[1;32m    258\u001b[0m \u001b[39m\u001b[39m\u001b[39m\"\"\"\u001b[39;00m\n\u001b[1;32m    259\u001b[0m \u001b[39mInitialization of the hidden state of RNN.\u001b[39;00m\n\u001b[1;32m    260\u001b[0m \n\u001b[0;32m   (...)\u001b[0m\n\u001b[1;32m    265\u001b[0m \u001b[39m    account number of RNN layers and directions)\u001b[39;00m\n\u001b[1;32m    266\u001b[0m \u001b[39m\"\"\"\u001b[39;00m\n\u001b[1;32m    267\u001b[0m \u001b[39mif\u001b[39;00m \u001b[39mself\u001b[39m\u001b[39m.\u001b[39muse_cuda:\n\u001b[1;32m    268\u001b[0m     \u001b[39mreturn\u001b[39;00m Variable(torch\u001b[39m.\u001b[39;49mzeros(\u001b[39mself\u001b[39;49m\u001b[39m.\u001b[39;49mn_layers \u001b[39m*\u001b[39;49m \u001b[39mself\u001b[39;49m\u001b[39m.\u001b[39;49mnum_dir, \u001b[39m1\u001b[39;49m,\n\u001b[0;32m--> 269\u001b[0m                                 \u001b[39mself\u001b[39;49m\u001b[39m.\u001b[39;49mhidden_size)\u001b[39m.\u001b[39;49mcuda())\n\u001b[1;32m    270\u001b[0m \u001b[39melse\u001b[39;00m:\n\u001b[1;32m    271\u001b[0m     \u001b[39mreturn\u001b[39;00m Variable(torch\u001b[39m.\u001b[39mzeros(\u001b[39mself\u001b[39m\u001b[39m.\u001b[39mn_layers \u001b[39m*\u001b[39m \u001b[39mself\u001b[39m\u001b[39m.\u001b[39mnum_dir, \u001b[39m1\u001b[39m,\n\u001b[1;32m    272\u001b[0m                                 \u001b[39mself\u001b[39m\u001b[39m.\u001b[39mhidden_size))\n",
            "\u001b[0;31mRuntimeError\u001b[0m: CUDA error: device-side assert triggered\nCUDA kernel errors might be asynchronously reported at some other API call, so the stacktrace below might be incorrect.\nFor debugging consider passing CUDA_LAUNCH_BLOCKING=1.\nCompile with `TORCH_USE_CUDA_DSA` to enable device-side assertions.\n"
          ]
        }
      ],
      "source": [
        "smiles_unbiased, prediction_unbiased = estimate_and_update(my_generator,\n",
        "                                                           my_predictor,\n",
        "                                                           n_to_generate=100)"
      ]
    },
    {
      "cell_type": "code",
      "execution_count": null,
      "metadata": {
        "id": "lNVpfqHHgv6F"
      },
      "outputs": [],
      "source": []
    },
    {
      "cell_type": "code",
      "execution_count": 30,
      "metadata": {
        "id": "1lVowh2Jgvrb"
      },
      "outputs": [],
      "source": [
        "from reinforcement import Reinforcement"
      ]
    },
    {
      "cell_type": "code",
      "execution_count": 31,
      "metadata": {
        "colab": {
          "base_uri": "https://localhost:8080/",
          "height": 964
        },
        "id": "lN-7RmzMHuVY",
        "outputId": "87718dc3-8f5a-49a6-bbcd-99d4c1515162"
      },
      "outputs": [
        {
          "ename": "RuntimeError",
          "evalue": "ignored",
          "output_type": "error",
          "traceback": [
            "\u001b[0;31m---------------------------------------------------------------------------\u001b[0m",
            "\u001b[0;31mRuntimeError\u001b[0m                              Traceback (most recent call last)",
            "\u001b[0;32m<ipython-input-31-68dcd79d6e60>\u001b[0m in \u001b[0;36m<cell line: 1>\u001b[0;34m()\u001b[0m\n\u001b[0;32m----> 1\u001b[0;31m my_generator_max = StackAugmentedRNN(input_size=gen_data.n_characters, \n\u001b[0m\u001b[1;32m      2\u001b[0m                                      \u001b[0mhidden_size\u001b[0m\u001b[0;34m=\u001b[0m\u001b[0mhidden_size\u001b[0m\u001b[0;34m,\u001b[0m\u001b[0;34m\u001b[0m\u001b[0;34m\u001b[0m\u001b[0m\n\u001b[1;32m      3\u001b[0m                                      \u001b[0moutput_size\u001b[0m\u001b[0;34m=\u001b[0m\u001b[0mgen_data\u001b[0m\u001b[0;34m.\u001b[0m\u001b[0mn_characters\u001b[0m\u001b[0;34m,\u001b[0m\u001b[0;34m\u001b[0m\u001b[0;34m\u001b[0m\u001b[0m\n\u001b[1;32m      4\u001b[0m                                      \u001b[0mlayer_type\u001b[0m\u001b[0;34m=\u001b[0m\u001b[0mlayer_type\u001b[0m\u001b[0;34m,\u001b[0m\u001b[0;34m\u001b[0m\u001b[0;34m\u001b[0m\u001b[0m\n\u001b[1;32m      5\u001b[0m                                      \u001b[0mn_layers\u001b[0m\u001b[0;34m=\u001b[0m\u001b[0;36m1\u001b[0m\u001b[0;34m,\u001b[0m \u001b[0mis_bidirectional\u001b[0m\u001b[0;34m=\u001b[0m\u001b[0;32mFalse\u001b[0m\u001b[0;34m,\u001b[0m \u001b[0mhas_stack\u001b[0m\u001b[0;34m=\u001b[0m\u001b[0;32mTrue\u001b[0m\u001b[0;34m,\u001b[0m\u001b[0;34m\u001b[0m\u001b[0;34m\u001b[0m\u001b[0m\n",
            "\u001b[0;32m/content/ReLeaSE/release/stackRNN.py\u001b[0m in \u001b[0;36m__init__\u001b[0;34m(self, input_size, hidden_size, output_size, layer_type, n_layers, is_bidirectional, has_stack, stack_width, stack_depth, use_cuda, optimizer_instance, lr)\u001b[0m\n\u001b[1;32m    123\u001b[0m \u001b[0;34m\u001b[0m\u001b[0m\n\u001b[1;32m    124\u001b[0m         \u001b[0;32mif\u001b[0m \u001b[0mself\u001b[0m\u001b[0;34m.\u001b[0m\u001b[0muse_cuda\u001b[0m\u001b[0;34m:\u001b[0m\u001b[0;34m\u001b[0m\u001b[0;34m\u001b[0m\u001b[0m\n\u001b[0;32m--> 125\u001b[0;31m             \u001b[0mself\u001b[0m \u001b[0;34m=\u001b[0m \u001b[0mself\u001b[0m\u001b[0;34m.\u001b[0m\u001b[0mcuda\u001b[0m\u001b[0;34m(\u001b[0m\u001b[0;34m)\u001b[0m\u001b[0;34m\u001b[0m\u001b[0;34m\u001b[0m\u001b[0m\n\u001b[0m\u001b[1;32m    126\u001b[0m         \u001b[0mself\u001b[0m\u001b[0;34m.\u001b[0m\u001b[0mcriterion\u001b[0m \u001b[0;34m=\u001b[0m \u001b[0mnn\u001b[0m\u001b[0;34m.\u001b[0m\u001b[0mCrossEntropyLoss\u001b[0m\u001b[0;34m(\u001b[0m\u001b[0;34m)\u001b[0m\u001b[0;34m\u001b[0m\u001b[0;34m\u001b[0m\u001b[0m\n\u001b[1;32m    127\u001b[0m         \u001b[0mself\u001b[0m\u001b[0;34m.\u001b[0m\u001b[0mlr\u001b[0m \u001b[0;34m=\u001b[0m \u001b[0mlr\u001b[0m\u001b[0;34m\u001b[0m\u001b[0;34m\u001b[0m\u001b[0m\n",
            "\u001b[0;32m/usr/local/lib/python3.10/dist-packages/torch/nn/modules/module.py\u001b[0m in \u001b[0;36mcuda\u001b[0;34m(self, device)\u001b[0m\n\u001b[1;32m    916\u001b[0m             \u001b[0mModule\u001b[0m\u001b[0;34m:\u001b[0m \u001b[0mself\u001b[0m\u001b[0;34m\u001b[0m\u001b[0;34m\u001b[0m\u001b[0m\n\u001b[1;32m    917\u001b[0m         \"\"\"\n\u001b[0;32m--> 918\u001b[0;31m         \u001b[0;32mreturn\u001b[0m \u001b[0mself\u001b[0m\u001b[0;34m.\u001b[0m\u001b[0m_apply\u001b[0m\u001b[0;34m(\u001b[0m\u001b[0;32mlambda\u001b[0m \u001b[0mt\u001b[0m\u001b[0;34m:\u001b[0m \u001b[0mt\u001b[0m\u001b[0;34m.\u001b[0m\u001b[0mcuda\u001b[0m\u001b[0;34m(\u001b[0m\u001b[0mdevice\u001b[0m\u001b[0;34m)\u001b[0m\u001b[0;34m)\u001b[0m\u001b[0;34m\u001b[0m\u001b[0;34m\u001b[0m\u001b[0m\n\u001b[0m\u001b[1;32m    919\u001b[0m \u001b[0;34m\u001b[0m\u001b[0m\n\u001b[1;32m    920\u001b[0m     \u001b[0;32mdef\u001b[0m \u001b[0mipu\u001b[0m\u001b[0;34m(\u001b[0m\u001b[0mself\u001b[0m\u001b[0;34m:\u001b[0m \u001b[0mT\u001b[0m\u001b[0;34m,\u001b[0m \u001b[0mdevice\u001b[0m\u001b[0;34m:\u001b[0m \u001b[0mOptional\u001b[0m\u001b[0;34m[\u001b[0m\u001b[0mUnion\u001b[0m\u001b[0;34m[\u001b[0m\u001b[0mint\u001b[0m\u001b[0;34m,\u001b[0m \u001b[0mdevice\u001b[0m\u001b[0;34m]\u001b[0m\u001b[0;34m]\u001b[0m \u001b[0;34m=\u001b[0m \u001b[0;32mNone\u001b[0m\u001b[0;34m)\u001b[0m \u001b[0;34m->\u001b[0m \u001b[0mT\u001b[0m\u001b[0;34m:\u001b[0m\u001b[0;34m\u001b[0m\u001b[0;34m\u001b[0m\u001b[0m\n",
            "\u001b[0;32m/usr/local/lib/python3.10/dist-packages/torch/nn/modules/module.py\u001b[0m in \u001b[0;36m_apply\u001b[0;34m(self, fn, recurse)\u001b[0m\n\u001b[1;32m    808\u001b[0m         \u001b[0;32mif\u001b[0m \u001b[0mrecurse\u001b[0m\u001b[0;34m:\u001b[0m\u001b[0;34m\u001b[0m\u001b[0;34m\u001b[0m\u001b[0m\n\u001b[1;32m    809\u001b[0m             \u001b[0;32mfor\u001b[0m \u001b[0mmodule\u001b[0m \u001b[0;32min\u001b[0m \u001b[0mself\u001b[0m\u001b[0;34m.\u001b[0m\u001b[0mchildren\u001b[0m\u001b[0;34m(\u001b[0m\u001b[0;34m)\u001b[0m\u001b[0;34m:\u001b[0m\u001b[0;34m\u001b[0m\u001b[0;34m\u001b[0m\u001b[0m\n\u001b[0;32m--> 810\u001b[0;31m                 \u001b[0mmodule\u001b[0m\u001b[0;34m.\u001b[0m\u001b[0m_apply\u001b[0m\u001b[0;34m(\u001b[0m\u001b[0mfn\u001b[0m\u001b[0;34m)\u001b[0m\u001b[0;34m\u001b[0m\u001b[0;34m\u001b[0m\u001b[0m\n\u001b[0m\u001b[1;32m    811\u001b[0m \u001b[0;34m\u001b[0m\u001b[0m\n\u001b[1;32m    812\u001b[0m         \u001b[0;32mdef\u001b[0m \u001b[0mcompute_should_use_set_data\u001b[0m\u001b[0;34m(\u001b[0m\u001b[0mtensor\u001b[0m\u001b[0;34m,\u001b[0m \u001b[0mtensor_applied\u001b[0m\u001b[0;34m)\u001b[0m\u001b[0;34m:\u001b[0m\u001b[0;34m\u001b[0m\u001b[0;34m\u001b[0m\u001b[0m\n",
            "\u001b[0;32m/usr/local/lib/python3.10/dist-packages/torch/nn/modules/module.py\u001b[0m in \u001b[0;36m_apply\u001b[0;34m(self, fn, recurse)\u001b[0m\n\u001b[1;32m    831\u001b[0m             \u001b[0;31m# `with torch.no_grad():`\u001b[0m\u001b[0;34m\u001b[0m\u001b[0;34m\u001b[0m\u001b[0m\n\u001b[1;32m    832\u001b[0m             \u001b[0;32mwith\u001b[0m \u001b[0mtorch\u001b[0m\u001b[0;34m.\u001b[0m\u001b[0mno_grad\u001b[0m\u001b[0;34m(\u001b[0m\u001b[0;34m)\u001b[0m\u001b[0;34m:\u001b[0m\u001b[0;34m\u001b[0m\u001b[0;34m\u001b[0m\u001b[0m\n\u001b[0;32m--> 833\u001b[0;31m                 \u001b[0mparam_applied\u001b[0m \u001b[0;34m=\u001b[0m \u001b[0mfn\u001b[0m\u001b[0;34m(\u001b[0m\u001b[0mparam\u001b[0m\u001b[0;34m)\u001b[0m\u001b[0;34m\u001b[0m\u001b[0;34m\u001b[0m\u001b[0m\n\u001b[0m\u001b[1;32m    834\u001b[0m             \u001b[0mshould_use_set_data\u001b[0m \u001b[0;34m=\u001b[0m \u001b[0mcompute_should_use_set_data\u001b[0m\u001b[0;34m(\u001b[0m\u001b[0mparam\u001b[0m\u001b[0;34m,\u001b[0m \u001b[0mparam_applied\u001b[0m\u001b[0;34m)\u001b[0m\u001b[0;34m\u001b[0m\u001b[0;34m\u001b[0m\u001b[0m\n\u001b[1;32m    835\u001b[0m             \u001b[0;32mif\u001b[0m \u001b[0mshould_use_set_data\u001b[0m\u001b[0;34m:\u001b[0m\u001b[0;34m\u001b[0m\u001b[0;34m\u001b[0m\u001b[0m\n",
            "\u001b[0;32m/usr/local/lib/python3.10/dist-packages/torch/nn/modules/module.py\u001b[0m in \u001b[0;36m<lambda>\u001b[0;34m(t)\u001b[0m\n\u001b[1;32m    916\u001b[0m             \u001b[0mModule\u001b[0m\u001b[0;34m:\u001b[0m \u001b[0mself\u001b[0m\u001b[0;34m\u001b[0m\u001b[0;34m\u001b[0m\u001b[0m\n\u001b[1;32m    917\u001b[0m         \"\"\"\n\u001b[0;32m--> 918\u001b[0;31m         \u001b[0;32mreturn\u001b[0m \u001b[0mself\u001b[0m\u001b[0;34m.\u001b[0m\u001b[0m_apply\u001b[0m\u001b[0;34m(\u001b[0m\u001b[0;32mlambda\u001b[0m \u001b[0mt\u001b[0m\u001b[0;34m:\u001b[0m \u001b[0mt\u001b[0m\u001b[0;34m.\u001b[0m\u001b[0mcuda\u001b[0m\u001b[0;34m(\u001b[0m\u001b[0mdevice\u001b[0m\u001b[0;34m)\u001b[0m\u001b[0;34m)\u001b[0m\u001b[0;34m\u001b[0m\u001b[0;34m\u001b[0m\u001b[0m\n\u001b[0m\u001b[1;32m    919\u001b[0m \u001b[0;34m\u001b[0m\u001b[0m\n\u001b[1;32m    920\u001b[0m     \u001b[0;32mdef\u001b[0m \u001b[0mipu\u001b[0m\u001b[0;34m(\u001b[0m\u001b[0mself\u001b[0m\u001b[0;34m:\u001b[0m \u001b[0mT\u001b[0m\u001b[0;34m,\u001b[0m \u001b[0mdevice\u001b[0m\u001b[0;34m:\u001b[0m \u001b[0mOptional\u001b[0m\u001b[0;34m[\u001b[0m\u001b[0mUnion\u001b[0m\u001b[0;34m[\u001b[0m\u001b[0mint\u001b[0m\u001b[0;34m,\u001b[0m \u001b[0mdevice\u001b[0m\u001b[0;34m]\u001b[0m\u001b[0;34m]\u001b[0m \u001b[0;34m=\u001b[0m \u001b[0;32mNone\u001b[0m\u001b[0;34m)\u001b[0m \u001b[0;34m->\u001b[0m \u001b[0mT\u001b[0m\u001b[0;34m:\u001b[0m\u001b[0;34m\u001b[0m\u001b[0;34m\u001b[0m\u001b[0m\n",
            "\u001b[0;31mRuntimeError\u001b[0m: CUDA error: device-side assert triggered\nCUDA kernel errors might be asynchronously reported at some other API call, so the stacktrace below might be incorrect.\nFor debugging consider passing CUDA_LAUNCH_BLOCKING=1.\nCompile with `TORCH_USE_CUDA_DSA` to enable device-side assertions.\n"
          ]
        }
      ],
      "source": [
        "my_generator_max = StackAugmentedRNN(input_size=gen_data.n_characters,\n",
        "                                     hidden_size=hidden_size,\n",
        "                                     output_size=gen_data.n_characters,\n",
        "                                     layer_type=layer_type,\n",
        "                                     n_layers=1, is_bidirectional=False, has_stack=True,\n",
        "                                     stack_width=stack_width, stack_depth=stack_depth,\n",
        "                                     use_cuda=use_cuda,\n",
        "                                     optimizer_instance=optimizer_instance, lr=lr)\n",
        "\n",
        "my_generator_max.load_model(model_path)"
      ]
    },
    {
      "cell_type": "code",
      "execution_count": null,
      "metadata": {
        "id": "l7jB7C8hHuSn"
      },
      "outputs": [],
      "source": [
        "# Setting up some parameters for the experiment\n",
        "n_to_generate = 200\n",
        "n_policy_replay = 10\n",
        "n_policy = 15\n",
        "n_iterations = 60"
      ]
    },
    {
      "cell_type": "code",
      "execution_count": null,
      "metadata": {
        "id": "ZKjA1dXTyS1u"
      },
      "outputs": [],
      "source": [
        "def simple_moving_average(previous_values, new_value, ma_window_size=10):\n",
        "    value_ma = np.sum(previous_values[-(ma_window_size-1):]) + new_value\n",
        "    value_ma = value_ma/(len(previous_values[-(ma_window_size-1):]) + 1)\n",
        "    return value_ma"
      ]
    },
    {
      "cell_type": "code",
      "execution_count": null,
      "metadata": {
        "id": "MczRvAiZHuPB"
      },
      "outputs": [],
      "source": [
        "def get_reward_logp(smiles, predictor, invalid_reward=0.0):\n",
        "    mol, prop, nan_smiles = predictor.predict([smiles])\n",
        "    if len(nan_smiles) == 1:\n",
        "        return invalid_reward\n",
        "    if (prop[0] >= 1.0) and (prop[0] <= 4.0):\n",
        "        return 11.0\n",
        "    else:\n",
        "        return 1.0"
      ]
    },
    {
      "cell_type": "code",
      "execution_count": null,
      "metadata": {
        "id": "tt4DRkjNHt_Z"
      },
      "outputs": [],
      "source": [
        "x = np.linspace(-5, 12)\n",
        "reward = lambda x: 11.0 if ((x > 1.0) and (x < 4.0)) else 1.0\n",
        "plt.plot(x, [reward(i) for i in x])\n",
        "plt.xlabel('logP value')\n",
        "plt.ylabel('Reward value')\n",
        "plt.title('Reward function for logP optimization')\n",
        "plt.show()"
      ]
    },
    {
      "cell_type": "code",
      "execution_count": null,
      "metadata": {
        "id": "kvlrA7l7vsJE"
      },
      "outputs": [],
      "source": [
        "RL_logp = Reinforcement(my_generator_max, my_predictor, get_reward_logp)"
      ]
    },
    {
      "cell_type": "code",
      "execution_count": null,
      "metadata": {
        "id": "t5EwAOagvsF1"
      },
      "outputs": [],
      "source": [
        "rewards_max = []\n",
        "rl_losses_max = []"
      ]
    },
    {
      "cell_type": "code",
      "execution_count": null,
      "metadata": {
        "id": "BpCGK-QbHtbb"
      },
      "outputs": [],
      "source": [
        "for i in range(n_iterations):\n",
        "    for j in trange(n_policy, desc='Policy gradient...'):\n",
        "        cur_reward, cur_loss = RL_logp.policy_gradient(gen_data)\n",
        "        rewards.append(simple_moving_average(rewards, cur_reward))\n",
        "        rl_losses.append(simple_moving_average(rl_losses, cur_loss))\n",
        "\n",
        "    plt.plot(rewards)\n",
        "    plt.xlabel('Training iteration')\n",
        "    plt.ylabel('Average reward')\n",
        "    plt.show()\n",
        "    plt.plot(rl_losses)\n",
        "    plt.xlabel('Training iteration')\n",
        "    plt.ylabel('Loss')\n",
        "    plt.show()\n",
        "\n",
        "    smiles_cur, prediction_cur = estimate_and_update(RL_logp.generator,\n",
        "                                                     my_predictor,\n",
        "                                                     n_to_generate)\n",
        "    print('Sample trajectories:')\n",
        "    for sm in smiles_cur[:5]:\n",
        "        print(sm)"
      ]
    },
    {
      "cell_type": "code",
      "execution_count": null,
      "metadata": {
        "id": "clPIu0z17rA_"
      },
      "outputs": [],
      "source": [
        "smiles_biased, prediction_biased = estimate_and_update(RL_logp.generator,\n",
        "                                                       my_predictor,\n",
        "                                                       n_to_generate=10000)"
      ]
    },
    {
      "cell_type": "code",
      "execution_count": null,
      "metadata": {
        "id": "QYFBOJ-y7q14"
      },
      "outputs": [],
      "source": [
        "sns.kdeplot(prediction_biased, label='Optimized', shade=True, color='purple')\n",
        "sns.kdeplot(prediction_unbiased, label='Unbiased', shade=True, color='grey')\n",
        "plt.xlabel('Predicted logP values')\n",
        "plt.title('Initial and biased distributions of log P')\n",
        "plt.legend()\n",
        "plt.show()"
      ]
    },
    {
      "cell_type": "code",
      "execution_count": null,
      "metadata": {
        "id": "GdLRQLRQhZTT"
      },
      "outputs": [],
      "source": [
        "from rdkit.Chem import Draw"
      ]
    },
    {
      "cell_type": "code",
      "execution_count": null,
      "metadata": {
        "id": "ITTjgkZphZG-"
      },
      "outputs": [],
      "source": [
        "from rdkit.Chem.Draw import DrawingOptions\n",
        "from rdkit.Chem import Draw\n",
        "DrawingOptions.atomLabelFontSize = 50\n",
        "DrawingOptions.dotsPerAngstrom = 100\n",
        "DrawingOptions.bondLineWidth = 3"
      ]
    },
    {
      "cell_type": "code",
      "execution_count": null,
      "metadata": {
        "id": "CAQkQf9ShZEK"
      },
      "outputs": [],
      "source": [
        "generated_mols = [Chem.MolFromSmiles(sm, sanitize=True) for sm in smiles_biased]"
      ]
    },
    {
      "cell_type": "code",
      "execution_count": null,
      "metadata": {
        "id": "i-OmEJ0XhZA9"
      },
      "outputs": [],
      "source": [
        "sanitized_gen_mols = [generated_mols[i] for i in np.where(np.array(generated_mols) != None)[0]]"
      ]
    },
    {
      "cell_type": "code",
      "execution_count": null,
      "metadata": {
        "id": "LJaguqfLhY-G"
      },
      "outputs": [],
      "source": [
        "n_to_draw = 20\n",
        "ind = np.random.randint(0, len(sanitized_gen_mols), n_to_draw)\n",
        "mols_to_draw = [sanitized_gen_mols[i] for i in ind]\n",
        "legends = ['log P = ' + str(prediction_biased[i]) for i in ind]"
      ]
    },
    {
      "cell_type": "code",
      "execution_count": null,
      "metadata": {
        "id": "HPBIQR69hY6v"
      },
      "outputs": [],
      "source": [
        "Draw.MolsToGridImage(mols_to_draw, molsPerRow=5,\n",
        "                     subImgSize=(200,200), legends=legends)"
      ]
    },
    {
      "cell_type": "code",
      "execution_count": null,
      "metadata": {
        "id": "KhwCm14ghY3b"
      },
      "outputs": [],
      "source": []
    }
  ],
  "metadata": {
    "accelerator": "GPU",
    "colab": {
      "provenance": []
    },
    "kernelspec": {
      "display_name": "Python 3",
      "name": "python3"
    },
    "language_info": {
      "codemirror_mode": {
        "name": "ipython",
        "version": 3
      },
      "file_extension": ".py",
      "mimetype": "text/x-python",
      "name": "python",
      "nbconvert_exporter": "python",
      "pygments_lexer": "ipython3",
      "version": "3.11.4"
    }
  },
  "nbformat": 4,
  "nbformat_minor": 0
}
